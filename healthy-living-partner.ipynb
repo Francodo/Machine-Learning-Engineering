{
 "cells": [
  {
   "cell_type": "code",
   "execution_count": 1,
   "metadata": {
    "scrolled": true
   },
   "outputs": [
    {
     "name": "stderr",
     "output_type": "stream",
     "text": [
      "C:\\Users\\Franc\\anaconda3\\envs\\mlenv\\lib\\site-packages\\tensorflow\\python\\framework\\dtypes.py:516: FutureWarning: Passing (type, 1) or '1type' as a synonym of type is deprecated; in a future version of numpy, it will be understood as (type, (1,)) / '(1,)type'.\n",
      "  _np_qint8 = np.dtype([(\"qint8\", np.int8, 1)])\n",
      "C:\\Users\\Franc\\anaconda3\\envs\\mlenv\\lib\\site-packages\\tensorflow\\python\\framework\\dtypes.py:517: FutureWarning: Passing (type, 1) or '1type' as a synonym of type is deprecated; in a future version of numpy, it will be understood as (type, (1,)) / '(1,)type'.\n",
      "  _np_quint8 = np.dtype([(\"quint8\", np.uint8, 1)])\n",
      "C:\\Users\\Franc\\anaconda3\\envs\\mlenv\\lib\\site-packages\\tensorflow\\python\\framework\\dtypes.py:518: FutureWarning: Passing (type, 1) or '1type' as a synonym of type is deprecated; in a future version of numpy, it will be understood as (type, (1,)) / '(1,)type'.\n",
      "  _np_qint16 = np.dtype([(\"qint16\", np.int16, 1)])\n",
      "C:\\Users\\Franc\\anaconda3\\envs\\mlenv\\lib\\site-packages\\tensorflow\\python\\framework\\dtypes.py:519: FutureWarning: Passing (type, 1) or '1type' as a synonym of type is deprecated; in a future version of numpy, it will be understood as (type, (1,)) / '(1,)type'.\n",
      "  _np_quint16 = np.dtype([(\"quint16\", np.uint16, 1)])\n",
      "C:\\Users\\Franc\\anaconda3\\envs\\mlenv\\lib\\site-packages\\tensorflow\\python\\framework\\dtypes.py:520: FutureWarning: Passing (type, 1) or '1type' as a synonym of type is deprecated; in a future version of numpy, it will be understood as (type, (1,)) / '(1,)type'.\n",
      "  _np_qint32 = np.dtype([(\"qint32\", np.int32, 1)])\n",
      "C:\\Users\\Franc\\anaconda3\\envs\\mlenv\\lib\\site-packages\\tensorflow\\python\\framework\\dtypes.py:525: FutureWarning: Passing (type, 1) or '1type' as a synonym of type is deprecated; in a future version of numpy, it will be understood as (type, (1,)) / '(1,)type'.\n",
      "  np_resource = np.dtype([(\"resource\", np.ubyte, 1)])\n",
      "C:\\Users\\Franc\\anaconda3\\envs\\mlenv\\lib\\site-packages\\tensorboard\\compat\\tensorflow_stub\\dtypes.py:541: FutureWarning: Passing (type, 1) or '1type' as a synonym of type is deprecated; in a future version of numpy, it will be understood as (type, (1,)) / '(1,)type'.\n",
      "  _np_qint8 = np.dtype([(\"qint8\", np.int8, 1)])\n",
      "C:\\Users\\Franc\\anaconda3\\envs\\mlenv\\lib\\site-packages\\tensorboard\\compat\\tensorflow_stub\\dtypes.py:542: FutureWarning: Passing (type, 1) or '1type' as a synonym of type is deprecated; in a future version of numpy, it will be understood as (type, (1,)) / '(1,)type'.\n",
      "  _np_quint8 = np.dtype([(\"quint8\", np.uint8, 1)])\n",
      "C:\\Users\\Franc\\anaconda3\\envs\\mlenv\\lib\\site-packages\\tensorboard\\compat\\tensorflow_stub\\dtypes.py:543: FutureWarning: Passing (type, 1) or '1type' as a synonym of type is deprecated; in a future version of numpy, it will be understood as (type, (1,)) / '(1,)type'.\n",
      "  _np_qint16 = np.dtype([(\"qint16\", np.int16, 1)])\n",
      "C:\\Users\\Franc\\anaconda3\\envs\\mlenv\\lib\\site-packages\\tensorboard\\compat\\tensorflow_stub\\dtypes.py:544: FutureWarning: Passing (type, 1) or '1type' as a synonym of type is deprecated; in a future version of numpy, it will be understood as (type, (1,)) / '(1,)type'.\n",
      "  _np_quint16 = np.dtype([(\"quint16\", np.uint16, 1)])\n",
      "C:\\Users\\Franc\\anaconda3\\envs\\mlenv\\lib\\site-packages\\tensorboard\\compat\\tensorflow_stub\\dtypes.py:545: FutureWarning: Passing (type, 1) or '1type' as a synonym of type is deprecated; in a future version of numpy, it will be understood as (type, (1,)) / '(1,)type'.\n",
      "  _np_qint32 = np.dtype([(\"qint32\", np.int32, 1)])\n",
      "C:\\Users\\Franc\\anaconda3\\envs\\mlenv\\lib\\site-packages\\tensorboard\\compat\\tensorflow_stub\\dtypes.py:550: FutureWarning: Passing (type, 1) or '1type' as a synonym of type is deprecated; in a future version of numpy, it will be understood as (type, (1,)) / '(1,)type'.\n",
      "  np_resource = np.dtype([(\"resource\", np.ubyte, 1)])\n"
     ]
    }
   ],
   "source": [
    "# Import the necessary dependecies or libraries/packages for Pandas, Numpy,os, Matplotlib,\n",
    "# Scikit Learn and Tensorflow\n",
    "\n",
    "import pandas as pd\n",
    "import numpy as np\n",
    "import os\n",
    "from pathlib import Path\n",
    "import matplotlib.pyplot as plt\n",
    "from sklearn.datasets import make_moons\n",
    "from sklearn.metrics import accuracy_score\n",
    "import tensorflow as tf\n",
    "\n",
    "%matplotlib inline"
   ]
  },
  {
   "cell_type": "code",
   "execution_count": 2,
   "metadata": {},
   "outputs": [
    {
     "data": {
      "text/html": [
       "<div>\n",
       "<style scoped>\n",
       "    .dataframe tbody tr th:only-of-type {\n",
       "        vertical-align: middle;\n",
       "    }\n",
       "\n",
       "    .dataframe tbody tr th {\n",
       "        vertical-align: top;\n",
       "    }\n",
       "\n",
       "    .dataframe thead th {\n",
       "        text-align: right;\n",
       "    }\n",
       "</style>\n",
       "<table border=\"1\" class=\"dataframe\">\n",
       "  <thead>\n",
       "    <tr style=\"text-align: right;\">\n",
       "      <th></th>\n",
       "      <th>Pregnancies</th>\n",
       "      <th>Glucose</th>\n",
       "      <th>BloodPressure</th>\n",
       "      <th>SkinThickness</th>\n",
       "      <th>Insulin</th>\n",
       "      <th>BMI</th>\n",
       "      <th>DiabetesPedigreeFunction</th>\n",
       "      <th>Age</th>\n",
       "      <th>Outcome</th>\n",
       "    </tr>\n",
       "  </thead>\n",
       "  <tbody>\n",
       "    <tr>\n",
       "      <th>0</th>\n",
       "      <td>6</td>\n",
       "      <td>148</td>\n",
       "      <td>72</td>\n",
       "      <td>35</td>\n",
       "      <td>0</td>\n",
       "      <td>33.6</td>\n",
       "      <td>0.627</td>\n",
       "      <td>50</td>\n",
       "      <td>1</td>\n",
       "    </tr>\n",
       "    <tr>\n",
       "      <th>1</th>\n",
       "      <td>1</td>\n",
       "      <td>85</td>\n",
       "      <td>66</td>\n",
       "      <td>29</td>\n",
       "      <td>0</td>\n",
       "      <td>26.6</td>\n",
       "      <td>0.351</td>\n",
       "      <td>31</td>\n",
       "      <td>0</td>\n",
       "    </tr>\n",
       "    <tr>\n",
       "      <th>2</th>\n",
       "      <td>8</td>\n",
       "      <td>183</td>\n",
       "      <td>64</td>\n",
       "      <td>0</td>\n",
       "      <td>0</td>\n",
       "      <td>23.3</td>\n",
       "      <td>0.672</td>\n",
       "      <td>32</td>\n",
       "      <td>1</td>\n",
       "    </tr>\n",
       "    <tr>\n",
       "      <th>3</th>\n",
       "      <td>1</td>\n",
       "      <td>89</td>\n",
       "      <td>66</td>\n",
       "      <td>23</td>\n",
       "      <td>94</td>\n",
       "      <td>28.1</td>\n",
       "      <td>0.167</td>\n",
       "      <td>21</td>\n",
       "      <td>0</td>\n",
       "    </tr>\n",
       "    <tr>\n",
       "      <th>4</th>\n",
       "      <td>0</td>\n",
       "      <td>137</td>\n",
       "      <td>40</td>\n",
       "      <td>35</td>\n",
       "      <td>168</td>\n",
       "      <td>43.1</td>\n",
       "      <td>2.288</td>\n",
       "      <td>33</td>\n",
       "      <td>1</td>\n",
       "    </tr>\n",
       "    <tr>\n",
       "      <th>5</th>\n",
       "      <td>5</td>\n",
       "      <td>116</td>\n",
       "      <td>74</td>\n",
       "      <td>0</td>\n",
       "      <td>0</td>\n",
       "      <td>25.6</td>\n",
       "      <td>0.201</td>\n",
       "      <td>30</td>\n",
       "      <td>0</td>\n",
       "    </tr>\n",
       "    <tr>\n",
       "      <th>6</th>\n",
       "      <td>3</td>\n",
       "      <td>78</td>\n",
       "      <td>50</td>\n",
       "      <td>32</td>\n",
       "      <td>88</td>\n",
       "      <td>31.0</td>\n",
       "      <td>0.248</td>\n",
       "      <td>26</td>\n",
       "      <td>1</td>\n",
       "    </tr>\n",
       "    <tr>\n",
       "      <th>7</th>\n",
       "      <td>10</td>\n",
       "      <td>115</td>\n",
       "      <td>0</td>\n",
       "      <td>0</td>\n",
       "      <td>0</td>\n",
       "      <td>35.3</td>\n",
       "      <td>0.134</td>\n",
       "      <td>29</td>\n",
       "      <td>0</td>\n",
       "    </tr>\n",
       "    <tr>\n",
       "      <th>8</th>\n",
       "      <td>2</td>\n",
       "      <td>197</td>\n",
       "      <td>70</td>\n",
       "      <td>45</td>\n",
       "      <td>543</td>\n",
       "      <td>30.5</td>\n",
       "      <td>0.158</td>\n",
       "      <td>53</td>\n",
       "      <td>1</td>\n",
       "    </tr>\n",
       "    <tr>\n",
       "      <th>9</th>\n",
       "      <td>8</td>\n",
       "      <td>125</td>\n",
       "      <td>96</td>\n",
       "      <td>0</td>\n",
       "      <td>0</td>\n",
       "      <td>0.0</td>\n",
       "      <td>0.232</td>\n",
       "      <td>54</td>\n",
       "      <td>1</td>\n",
       "    </tr>\n",
       "  </tbody>\n",
       "</table>\n",
       "</div>"
      ],
      "text/plain": [
       "   Pregnancies  Glucose  BloodPressure  SkinThickness  Insulin   BMI  \\\n",
       "0            6      148             72             35        0  33.6   \n",
       "1            1       85             66             29        0  26.6   \n",
       "2            8      183             64              0        0  23.3   \n",
       "3            1       89             66             23       94  28.1   \n",
       "4            0      137             40             35      168  43.1   \n",
       "5            5      116             74              0        0  25.6   \n",
       "6            3       78             50             32       88  31.0   \n",
       "7           10      115              0              0        0  35.3   \n",
       "8            2      197             70             45      543  30.5   \n",
       "9            8      125             96              0        0   0.0   \n",
       "\n",
       "   DiabetesPedigreeFunction  Age  Outcome  \n",
       "0                     0.627   50        1  \n",
       "1                     0.351   31        0  \n",
       "2                     0.672   32        1  \n",
       "3                     0.167   21        0  \n",
       "4                     2.288   33        1  \n",
       "5                     0.201   30        0  \n",
       "6                     0.248   26        1  \n",
       "7                     0.134   29        0  \n",
       "8                     0.158   53        1  \n",
       "9                     0.232   54        1  "
      ]
     },
     "execution_count": 2,
     "metadata": {},
     "output_type": "execute_result"
    }
   ],
   "source": [
    "# Read in the dataset as a DataFrame\n",
    " \n",
    "diabetes_df = pd.read_csv(Path('/users/Test/Resources/diabetes.csv'))\n",
    "diabetes_df.head(10)"
   ]
  },
  {
   "cell_type": "code",
   "execution_count": 3,
   "metadata": {},
   "outputs": [
    {
     "data": {
      "text/plain": [
       "(768, 9)"
      ]
     },
     "execution_count": 3,
     "metadata": {},
     "output_type": "execute_result"
    }
   ],
   "source": [
    "# Get the shape of the dataset to observe and understand how many datapoints and features\n",
    "# are present\n",
    "diabetes_df.shape"
   ]
  },
  {
   "cell_type": "code",
   "execution_count": 4,
   "metadata": {
    "scrolled": true
   },
   "outputs": [
    {
     "data": {
      "text/html": [
       "<div>\n",
       "<style scoped>\n",
       "    .dataframe tbody tr th:only-of-type {\n",
       "        vertical-align: middle;\n",
       "    }\n",
       "\n",
       "    .dataframe tbody tr th {\n",
       "        vertical-align: top;\n",
       "    }\n",
       "\n",
       "    .dataframe thead th {\n",
       "        text-align: right;\n",
       "    }\n",
       "</style>\n",
       "<table border=\"1\" class=\"dataframe\">\n",
       "  <thead>\n",
       "    <tr style=\"text-align: right;\">\n",
       "      <th></th>\n",
       "      <th>Pregnancies</th>\n",
       "      <th>Glucose</th>\n",
       "      <th>BloodPressure</th>\n",
       "      <th>SkinThickness</th>\n",
       "      <th>Insulin</th>\n",
       "      <th>BMI</th>\n",
       "      <th>DiabetesPedigreeFunction</th>\n",
       "      <th>Age</th>\n",
       "    </tr>\n",
       "  </thead>\n",
       "  <tbody>\n",
       "    <tr>\n",
       "      <th>0</th>\n",
       "      <td>6</td>\n",
       "      <td>148</td>\n",
       "      <td>72</td>\n",
       "      <td>35</td>\n",
       "      <td>0</td>\n",
       "      <td>33.6</td>\n",
       "      <td>0.627</td>\n",
       "      <td>50</td>\n",
       "    </tr>\n",
       "    <tr>\n",
       "      <th>1</th>\n",
       "      <td>1</td>\n",
       "      <td>85</td>\n",
       "      <td>66</td>\n",
       "      <td>29</td>\n",
       "      <td>0</td>\n",
       "      <td>26.6</td>\n",
       "      <td>0.351</td>\n",
       "      <td>31</td>\n",
       "    </tr>\n",
       "    <tr>\n",
       "      <th>2</th>\n",
       "      <td>8</td>\n",
       "      <td>183</td>\n",
       "      <td>64</td>\n",
       "      <td>0</td>\n",
       "      <td>0</td>\n",
       "      <td>23.3</td>\n",
       "      <td>0.672</td>\n",
       "      <td>32</td>\n",
       "    </tr>\n",
       "    <tr>\n",
       "      <th>3</th>\n",
       "      <td>1</td>\n",
       "      <td>89</td>\n",
       "      <td>66</td>\n",
       "      <td>23</td>\n",
       "      <td>94</td>\n",
       "      <td>28.1</td>\n",
       "      <td>0.167</td>\n",
       "      <td>21</td>\n",
       "    </tr>\n",
       "    <tr>\n",
       "      <th>4</th>\n",
       "      <td>0</td>\n",
       "      <td>137</td>\n",
       "      <td>40</td>\n",
       "      <td>35</td>\n",
       "      <td>168</td>\n",
       "      <td>43.1</td>\n",
       "      <td>2.288</td>\n",
       "      <td>33</td>\n",
       "    </tr>\n",
       "  </tbody>\n",
       "</table>\n",
       "</div>"
      ],
      "text/plain": [
       "   Pregnancies  Glucose  BloodPressure  SkinThickness  Insulin   BMI  \\\n",
       "0            6      148             72             35        0  33.6   \n",
       "1            1       85             66             29        0  26.6   \n",
       "2            8      183             64              0        0  23.3   \n",
       "3            1       89             66             23       94  28.1   \n",
       "4            0      137             40             35      168  43.1   \n",
       "\n",
       "   DiabetesPedigreeFunction  Age  \n",
       "0                     0.627   50  \n",
       "1                     0.351   31  \n",
       "2                     0.672   32  \n",
       "3                     0.167   21  \n",
       "4                     2.288   33  "
      ]
     },
     "execution_count": 4,
     "metadata": {},
     "output_type": "execute_result"
    }
   ],
   "source": [
    "# Separate the features(X) from Target (Y)\n",
    "# Note that y is the \"Outcome\" column\n",
    "# x are all the features without the \"Outcome\"\n",
    "# We name the DataFrame \"X\"\n",
    "\n",
    "y = diabetes_df[\"Outcome\"]\n",
    "X = diabetes_df.drop(columns=\"Outcome\")\n",
    "\n",
    "X.head()"
   ]
  },
  {
   "cell_type": "code",
   "execution_count": 5,
   "metadata": {
    "scrolled": true
   },
   "outputs": [
    {
     "data": {
      "text/plain": [
       "Pregnancies                 0\n",
       "Glucose                     0\n",
       "BloodPressure               0\n",
       "SkinThickness               0\n",
       "Insulin                     0\n",
       "BMI                         0\n",
       "DiabetesPedigreeFunction    0\n",
       "Age                         0\n",
       "Outcome                     0\n",
       "dtype: int64"
      ]
     },
     "execution_count": 5,
     "metadata": {},
     "output_type": "execute_result"
    }
   ],
   "source": [
    "# Find out if there are any missing values in our series of objects in\n",
    "# the dataset, 0 indicates none\n",
    "diabetes_df.isnull().sum()"
   ]
  },
  {
   "cell_type": "code",
   "execution_count": 6,
   "metadata": {},
   "outputs": [
    {
     "data": {
      "text/plain": [
       "Pregnancies                 0\n",
       "Glucose                     0\n",
       "BloodPressure               0\n",
       "SkinThickness               0\n",
       "Insulin                     0\n",
       "BMI                         0\n",
       "DiabetesPedigreeFunction    0\n",
       "Age                         0\n",
       "Outcome                     0\n",
       "dtype: int64"
      ]
     },
     "execution_count": 6,
     "metadata": {},
     "output_type": "execute_result"
    }
   ],
   "source": [
    "# Find out if there are na/nans in the dataset. 0 inicates none\n",
    "diabetes_df.isna().sum()"
   ]
  },
  {
   "cell_type": "code",
   "execution_count": 7,
   "metadata": {},
   "outputs": [],
   "source": [
    "# Import the scikit learn package for train/test\n",
    "from sklearn.model_selection import train_test_split\n",
    "\n",
    "# set data parameters for plotting purposes\n",
    "np.random.seed(0)\n",
    "num_data_pts = 768\n",
    "noise_val = 0.25\n",
    "\n",
    "# generate data for X and Y\n",
    "X, Y = make_moons(num_data_pts, noise=noise_val)\n",
    "\n",
    "# Split into test and training data\n",
    "X_train, X_test, y_train, y_test = train_test_split(X, Y,\n",
    "    test_size=0.25, random_state=42, stratify=y)\n"
   ]
  },
  {
   "cell_type": "code",
   "execution_count": 8,
   "metadata": {
    "scrolled": true
   },
   "outputs": [
    {
     "data": {
      "image/png": "[encoded data removed]",
      "text/plain": [
       "<Figure size 576x360 with 1 Axes>"
      ]
     },
     "metadata": {
      "needs_background": "light"
     },
     "output_type": "display_data"
    }
   ],
   "source": [
    "# plot datapoint distribution for both classes. Note that this is a non-linear distribution\n",
    "# points are colored by class, Y_train\n",
    "# 0 = purple, 1 = yellow\n",
    "\n",
    "plt.figure(figsize=(8,5))\n",
    "plt.xlabel('X_train[:,0]')\n",
    "plt.ylabel('X_train[:,1]')\n",
    "plt.scatter(X_train[:,0], X_train[:,1], c=y_train)\n",
    "plt.title('Pregnant Women Diabetes Data')\n",
    "plt.show()\n"
   ]
  },
  {
   "cell_type": "code",
   "execution_count": 44,
   "metadata": {},
   "outputs": [
    {
     "data": {
      "text/plain": [
       "0    500\n",
       "1    268\n",
       "Name: Outcome, dtype: int64"
      ]
     },
     "execution_count": 44,
     "metadata": {},
     "output_type": "execute_result"
    }
   ],
   "source": [
    "# Get the datapoint splits using the counter function\n",
    "from collections import Counter\n",
    "\n",
    "diabetes_df['Outcome'].value_counts()"
   ]
  },
  {
   "cell_type": "code",
   "execution_count": 50,
   "metadata": {},
   "outputs": [
    {
     "data": {
      "text/plain": [
       "Counter({1: 280, 0: 280})"
      ]
     },
     "execution_count": 50,
     "metadata": {},
     "output_type": "execute_result"
    }
   ],
   "source": [
    "# implement random oversampling\n",
    "from imblearn.over_sampling import RandomOverSampler\n",
    "ros = RandomOverSampler(random_state=1)\n",
    "X_resampled, y_resampled = ros.fit_resample(X_train, y_train)\n",
    "\n",
    "Counter(y_resampled)"
   ]
  },
  {
   "cell_type": "code",
   "execution_count": 31,
   "metadata": {},
   "outputs": [],
   "source": [
    "#from sklearn.model_selection import train_test_split\n",
    "\n",
    "# Remove diabetes outcome target from features data\n",
    "#y = diabetes_df.Outcome\n",
    "#X = diabetes_df.drop(columns=\"Outcome\")\n",
    "\n",
    "# Split training/test datasets\n",
    "#X_train, X_test, y_train, y_test = train_test_split(X, y,test_size=0.33, random_state=42, stratify=y)"
   ]
  },
  {
   "cell_type": "code",
   "execution_count": 51,
   "metadata": {},
   "outputs": [
    {
     "name": "stdout",
     "output_type": "stream",
     "text": [
      "(537, 2)\n",
      "(231, 2)\n",
      "(537,)\n",
      "(231,)\n"
     ]
    }
   ],
   "source": [
    "# Observe the splits for all X_train/X_teat and y_train/y_test\n",
    "print(X_train.shape)\n",
    "print(X_test.shape)\n",
    "print(y_train.shape)\n",
    "print(y_test.shape)"
   ]
  },
  {
   "cell_type": "code",
   "execution_count": 17,
   "metadata": {
    "scrolled": true
   },
   "outputs": [
    {
     "data": {
      "text/plain": [
       "Text(0.5, 1.0, 'Sigmoid Function ')"
      ]
     },
     "execution_count": 17,
     "metadata": {},
     "output_type": "execute_result"
    },
    {
     "data": {
      "image/png": "[encoded data removed]",
      "text/plain": [
       "<Figure size 432x288 with 1 Axes>"
      ]
     },
     "metadata": {},
     "output_type": "display_data"
    }
   ],
   "source": [
    "# import the higher level plotting tool package\n",
    "import seaborn as sns  \n",
    "\n",
    "# call the Seaborn, a Python data visualization library based on matplotlib.function\n",
    "sns.set()\n",
    "\n",
    "z = np.linspace(-10,10,100) # define z (This is also known as \"a'x\", \n",
    "\n",
    "# the area that separates y=0 and y=1)\n",
    "def g(z) :  # create a python function and define the function for sigmoid or the hypothesis\n",
    "    return 1/(1 + np.exp(-z))\n",
    "#plt.plot(x_axis, y_axis)\n",
    "plt.xlabel('Z value')\n",
    "plt.ylabel('Probability')\n",
    "plt.plot(z, g(z))\n",
    "plt.title(\"Sigmoid Function \", fontsize=16)"
   ]
  },
  {
   "cell_type": "code",
   "execution_count": 52,
   "metadata": {},
   "outputs": [],
   "source": [
    "# Preprocess numerical data for neural network. Normalize or standardize \n",
    "# our numerical variables to ensure that our neural network does \n",
    "# not focus on outliers and can apply proper weights to each input.\n",
    "\n",
    "from sklearn.preprocessing import StandardScaler\n",
    "\n",
    "# Create a StandardScaler instance\n",
    "scaler = StandardScaler()\n",
    "\n",
    "# Fit the StandardScaler\n",
    "X_scaler = scaler.fit(X_train)\n",
    "\n",
    "# Scale the data\n",
    "X_train_scaled = X_scaler.transform(X_train)\n",
    "X_test_scaled = X_scaler.transform(X_test)"
   ]
  },
  {
   "cell_type": "code",
   "execution_count": 69,
   "metadata": {},
   "outputs": [
    {
     "name": "stdout",
     "output_type": "stream",
     "text": [
      " Logistic regression model accuracy: 0.805\n"
     ]
    }
   ],
   "source": [
    "from sklearn.linear_model import LogisticRegression\n",
    "\n",
    "# Instantiate a logistic regression model\n",
    "logistic_classifier = LogisticRegression(solver=\"lbfgs\",max_iter=200)\n",
    "\n",
    "# Train the model\n",
    "logistic_classifier.fit(X_train,y_train)\n",
    "\n",
    "\n",
    "# Evaluate the model\n",
    "logistic_classifier.predict(X_test)\n",
    "predictor = logistic_classifier.predict(X_test)\n",
    "print(f\" Logistic regression model accuracy: {accuracy_score(y_test,predictor):.3f}\")"
   ]
  },
  {
   "cell_type": "code",
   "execution_count": 56,
   "metadata": {},
   "outputs": [
    {
     "name": "stdout",
     "output_type": "stream",
     "text": [
      "accuracy_score:  0.8051948051948052\n"
     ]
    }
   ],
   "source": [
    "from sklearn.metrics import accuracy_score\n",
    "print(f\"accuracy_score: {accuracy_score(y_test, predictor): }\")\n",
    "from sklearn.metrics import confusion_matrix, classification_report\n",
    "cm = confusion_matrix(y_test, predictor)\n",
    "cm_df = pd.DataFrame(\n",
    "    cm, index=[\"Actual 0\", \"Actual 1\"], columns=[\"Predicted 0\", \"Predicted 1\"])"
   ]
  },
  {
   "cell_type": "code",
   "execution_count": 70,
   "metadata": {
    "scrolled": true
   },
   "outputs": [
    {
     "name": "stdout",
     "output_type": "stream",
     "text": [
      "Confusion Matrix\n"
     ]
    },
    {
     "data": {
      "text/html": [
       "<div>\n",
       "<style scoped>\n",
       "    .dataframe tbody tr th:only-of-type {\n",
       "        vertical-align: middle;\n",
       "    }\n",
       "\n",
       "    .dataframe tbody tr th {\n",
       "        vertical-align: top;\n",
       "    }\n",
       "\n",
       "    .dataframe thead th {\n",
       "        text-align: right;\n",
       "    }\n",
       "</style>\n",
       "<table border=\"1\" class=\"dataframe\">\n",
       "  <thead>\n",
       "    <tr style=\"text-align: right;\">\n",
       "      <th></th>\n",
       "      <th>Predicted 0</th>\n",
       "      <th>Predicted 1</th>\n",
       "    </tr>\n",
       "  </thead>\n",
       "  <tbody>\n",
       "    <tr>\n",
       "      <th>Actual 0</th>\n",
       "      <td>110</td>\n",
       "      <td>17</td>\n",
       "    </tr>\n",
       "    <tr>\n",
       "      <th>Actual 1</th>\n",
       "      <td>11</td>\n",
       "      <td>93</td>\n",
       "    </tr>\n",
       "  </tbody>\n",
       "</table>\n",
       "</div>"
      ],
      "text/plain": [
       "          Predicted 0  Predicted 1\n",
       "Actual 0          110           17\n",
       "Actual 1           11           93"
      ]
     },
     "metadata": {},
     "output_type": "display_data"
    },
    {
     "name": "stdout",
     "output_type": "stream",
     "text": [
      "Accuracy Score : <function accuracy_score at 0x000001B23887FC18>\n",
      "Classification Report\n",
      "              precision    recall  f1-score   support\n",
      "\n",
      "           0       0.85      0.78      0.81       127\n",
      "           1       0.76      0.84      0.79       104\n",
      "\n",
      "    accuracy                           0.81       231\n",
      "   macro avg       0.80      0.81      0.80       231\n",
      "weighted avg       0.81      0.81      0.81       231\n",
      "\n"
     ]
    }
   ],
   "source": [
    "# Displaying results\n",
    "print(\"Confusion Matrix\")\n",
    "display(cm_df)\n",
    "print(f\"Accuracy Score : {accuracy_score}\")\n",
    "print(\"Classification Report\")\n",
    "print(classification_report(y_test, predictor))\n"
   ]
  },
  {
   "cell_type": "code",
   "execution_count": 33,
   "metadata": {
    "scrolled": false
   },
   "outputs": [
    {
     "name": "stdout",
     "output_type": "stream",
     "text": [
      "Epoch 1/100\n",
      "576/576 [==============================] - 1s 2ms/sample - loss: 0.8271 - acc: 0.3715\n",
      "Epoch 2/100\n",
      "576/576 [==============================] - 0s 45us/sample - loss: 0.7685 - acc: 0.3941\n",
      "Epoch 3/100\n",
      "576/576 [==============================] - 0s 38us/sample - loss: 0.7207 - acc: 0.4792\n",
      "Epoch 4/100\n",
      "576/576 [==============================] - 0s 43us/sample - loss: 0.6824 - acc: 0.5747\n",
      "Epoch 5/100\n",
      "576/576 [==============================] - 0s 40us/sample - loss: 0.6504 - acc: 0.6354\n",
      "Epoch 6/100\n",
      "576/576 [==============================] - 0s 45us/sample - loss: 0.6239 - acc: 0.6875\n",
      "Epoch 7/100\n",
      "576/576 [==============================] - 0s 46us/sample - loss: 0.6006 - acc: 0.7188\n",
      "Epoch 8/100\n",
      "576/576 [==============================] - 0s 33us/sample - loss: 0.5809 - acc: 0.7292\n",
      "Epoch 9/100\n",
      "576/576 [==============================] - 0s 47us/sample - loss: 0.5635 - acc: 0.7448\n",
      "Epoch 10/100\n",
      "576/576 [==============================] - 0s 36us/sample - loss: 0.5492 - acc: 0.7552\n",
      "Epoch 11/100\n",
      "576/576 [==============================] - 0s 40us/sample - loss: 0.5368 - acc: 0.7622\n",
      "Epoch 12/100\n",
      "576/576 [==============================] - 0s 31us/sample - loss: 0.5250 - acc: 0.7639\n",
      "Epoch 13/100\n",
      "576/576 [==============================] - 0s 42us/sample - loss: 0.5152 - acc: 0.7674\n",
      "Epoch 14/100\n",
      "576/576 [==============================] - 0s 35us/sample - loss: 0.5070 - acc: 0.7656\n",
      "Epoch 15/100\n",
      "576/576 [==============================] - 0s 40us/sample - loss: 0.4996 - acc: 0.7726\n",
      "Epoch 16/100\n",
      "576/576 [==============================] - 0s 57us/sample - loss: 0.4932 - acc: 0.7726\n",
      "Epoch 17/100\n",
      "576/576 [==============================] - 0s 40us/sample - loss: 0.4876 - acc: 0.7726\n",
      "Epoch 18/100\n",
      "576/576 [==============================] - 0s 49us/sample - loss: 0.4827 - acc: 0.7708\n",
      "Epoch 19/100\n",
      "576/576 [==============================] - 0s 38us/sample - loss: 0.4784 - acc: 0.7726\n",
      "Epoch 20/100\n",
      "576/576 [==============================] - 0s 42us/sample - loss: 0.4748 - acc: 0.7760\n",
      "Epoch 21/100\n",
      "576/576 [==============================] - 0s 47us/sample - loss: 0.4716 - acc: 0.7812\n",
      "Epoch 22/100\n",
      "576/576 [==============================] - 0s 40us/sample - loss: 0.4684 - acc: 0.7812\n",
      "Epoch 23/100\n",
      "576/576 [==============================] - 0s 38us/sample - loss: 0.4658 - acc: 0.7812\n",
      "Epoch 24/100\n",
      "576/576 [==============================] - 0s 43us/sample - loss: 0.4635 - acc: 0.7882\n",
      "Epoch 25/100\n",
      "576/576 [==============================] - 0s 42us/sample - loss: 0.4615 - acc: 0.7865\n",
      "Epoch 26/100\n",
      "576/576 [==============================] - 0s 43us/sample - loss: 0.4600 - acc: 0.7865\n",
      "Epoch 27/100\n",
      "576/576 [==============================] - 0s 47us/sample - loss: 0.4582 - acc: 0.7882\n",
      "Epoch 28/100\n",
      "576/576 [==============================] - 0s 48us/sample - loss: 0.4565 - acc: 0.7899\n",
      "Epoch 29/100\n",
      "576/576 [==============================] - 0s 45us/sample - loss: 0.4556 - acc: 0.7899\n",
      "Epoch 30/100\n",
      "576/576 [==============================] - 0s 50us/sample - loss: 0.4542 - acc: 0.7934\n",
      "Epoch 31/100\n",
      "576/576 [==============================] - 0s 47us/sample - loss: 0.4530 - acc: 0.7934\n",
      "Epoch 32/100\n",
      "576/576 [==============================] - 0s 43us/sample - loss: 0.4524 - acc: 0.7917\n",
      "Epoch 33/100\n",
      "576/576 [==============================] - 0s 42us/sample - loss: 0.4512 - acc: 0.7934\n",
      "Epoch 34/100\n",
      "576/576 [==============================] - 0s 50us/sample - loss: 0.4500 - acc: 0.7934\n",
      "Epoch 35/100\n",
      "576/576 [==============================] - 0s 47us/sample - loss: 0.4491 - acc: 0.7934\n",
      "Epoch 36/100\n",
      "576/576 [==============================] - 0s 49us/sample - loss: 0.4485 - acc: 0.7934\n",
      "Epoch 37/100\n",
      "576/576 [==============================] - 0s 43us/sample - loss: 0.4475 - acc: 0.7969\n",
      "Epoch 38/100\n",
      "576/576 [==============================] - 0s 42us/sample - loss: 0.4471 - acc: 0.7934\n",
      "Epoch 39/100\n",
      "576/576 [==============================] - 0s 38us/sample - loss: 0.4461 - acc: 0.7917\n",
      "Epoch 40/100\n",
      "576/576 [==============================] - 0s 43us/sample - loss: 0.4452 - acc: 0.7934\n",
      "Epoch 41/100\n",
      "576/576 [==============================] - 0s 40us/sample - loss: 0.4445 - acc: 0.7934\n",
      "Epoch 42/100\n",
      "576/576 [==============================] - 0s 38us/sample - loss: 0.4436 - acc: 0.7951\n",
      "Epoch 43/100\n",
      "576/576 [==============================] - 0s 47us/sample - loss: 0.4432 - acc: 0.7951\n",
      "Epoch 44/100\n",
      "576/576 [==============================] - 0s 50us/sample - loss: 0.4426 - acc: 0.7969\n",
      "Epoch 45/100\n",
      "576/576 [==============================] - 0s 36us/sample - loss: 0.4419 - acc: 0.7969\n",
      "Epoch 46/100\n",
      "576/576 [==============================] - 0s 37us/sample - loss: 0.4411 - acc: 0.7986\n",
      "Epoch 47/100\n",
      "576/576 [==============================] - 0s 40us/sample - loss: 0.4405 - acc: 0.7969\n",
      "Epoch 48/100\n",
      "576/576 [==============================] - 0s 35us/sample - loss: 0.4401 - acc: 0.7986\n",
      "Epoch 49/100\n",
      "576/576 [==============================] - 0s 50us/sample - loss: 0.4396 - acc: 0.7986\n",
      "Epoch 50/100\n",
      "576/576 [==============================] - 0s 42us/sample - loss: 0.4390 - acc: 0.8003\n",
      "Epoch 51/100\n",
      "576/576 [==============================] - 0s 43us/sample - loss: 0.4382 - acc: 0.7986\n",
      "Epoch 52/100\n",
      "576/576 [==============================] - ETA: 0s - loss: 0.5069 - acc: 0.687 - 0s 48us/sample - loss: 0.4383 - acc: 0.7986\n",
      "Epoch 53/100\n",
      "576/576 [==============================] - 0s 40us/sample - loss: 0.4374 - acc: 0.7986\n",
      "Epoch 54/100\n",
      "576/576 [==============================] - 0s 43us/sample - loss: 0.4369 - acc: 0.7986\n",
      "Epoch 55/100\n",
      "576/576 [==============================] - 0s 38us/sample - loss: 0.4364 - acc: 0.8003\n",
      "Epoch 56/100\n",
      "576/576 [==============================] - 0s 33us/sample - loss: 0.4359 - acc: 0.8003\n",
      "Epoch 57/100\n",
      "576/576 [==============================] - 0s 36us/sample - loss: 0.4357 - acc: 0.7986\n",
      "Epoch 58/100\n",
      "576/576 [==============================] - 0s 33us/sample - loss: 0.4353 - acc: 0.7951\n",
      "Epoch 59/100\n",
      "576/576 [==============================] - 0s 38us/sample - loss: 0.4347 - acc: 0.7934\n",
      "Epoch 60/100\n",
      "576/576 [==============================] - 0s 33us/sample - loss: 0.4346 - acc: 0.7969\n",
      "Epoch 61/100\n",
      "576/576 [==============================] - 0s 31us/sample - loss: 0.4340 - acc: 0.8003\n",
      "Epoch 62/100\n",
      "576/576 [==============================] - 0s 35us/sample - loss: 0.4336 - acc: 0.7969\n",
      "Epoch 63/100\n",
      "576/576 [==============================] - 0s 33us/sample - loss: 0.4332 - acc: 0.7986\n",
      "Epoch 64/100\n",
      "576/576 [==============================] - 0s 33us/sample - loss: 0.4332 - acc: 0.7969\n",
      "Epoch 65/100\n",
      "576/576 [==============================] - 0s 36us/sample - loss: 0.4320 - acc: 0.8003\n",
      "Epoch 66/100\n",
      "576/576 [==============================] - 0s 43us/sample - loss: 0.4319 - acc: 0.7986\n",
      "Epoch 67/100\n",
      "576/576 [==============================] - 0s 54us/sample - loss: 0.4313 - acc: 0.7986\n",
      "Epoch 68/100\n",
      "576/576 [==============================] - 0s 35us/sample - loss: 0.4312 - acc: 0.7986\n",
      "Epoch 69/100\n",
      "576/576 [==============================] - 0s 80us/sample - loss: 0.4311 - acc: 0.7969\n",
      "Epoch 70/100\n",
      "576/576 [==============================] - 0s 33us/sample - loss: 0.4304 - acc: 0.7986\n",
      "Epoch 71/100\n",
      "576/576 [==============================] - 0s 48us/sample - loss: 0.4301 - acc: 0.8021\n",
      "Epoch 72/100\n",
      "576/576 [==============================] - 0s 54us/sample - loss: 0.4301 - acc: 0.7969\n",
      "Epoch 73/100\n",
      "576/576 [==============================] - 0s 38us/sample - loss: 0.4291 - acc: 0.8021\n",
      "Epoch 74/100\n",
      "576/576 [==============================] - 0s 50us/sample - loss: 0.4289 - acc: 0.7986\n",
      "Epoch 75/100\n",
      "576/576 [==============================] - 0s 42us/sample - loss: 0.4287 - acc: 0.8038\n",
      "Epoch 76/100\n",
      "576/576 [==============================] - 0s 38us/sample - loss: 0.4280 - acc: 0.8056\n",
      "Epoch 77/100\n",
      "576/576 [==============================] - 0s 36us/sample - loss: 0.4278 - acc: 0.8056\n",
      "Epoch 78/100\n",
      "576/576 [==============================] - ETA: 0s - loss: 0.4474 - acc: 0.843 - 0s 35us/sample - loss: 0.4277 - acc: 0.8038\n",
      "Epoch 79/100\n",
      "576/576 [==============================] - 0s 33us/sample - loss: 0.4270 - acc: 0.8056\n",
      "Epoch 80/100\n",
      "576/576 [==============================] - 0s 36us/sample - loss: 0.4270 - acc: 0.8038\n",
      "Epoch 81/100\n",
      "576/576 [==============================] - 0s 33us/sample - loss: 0.4263 - acc: 0.8056\n",
      "Epoch 82/100\n",
      "576/576 [==============================] - 0s 50us/sample - loss: 0.4263 - acc: 0.8021\n",
      "Epoch 83/100\n",
      "576/576 [==============================] - 0s 33us/sample - loss: 0.4259 - acc: 0.8021\n",
      "Epoch 84/100\n",
      "576/576 [==============================] - 0s 35us/sample - loss: 0.4255 - acc: 0.8021\n",
      "Epoch 85/100\n",
      "576/576 [==============================] - 0s 29us/sample - loss: 0.4254 - acc: 0.8056\n",
      "Epoch 86/100\n",
      "576/576 [==============================] - 0s 38us/sample - loss: 0.4253 - acc: 0.8021\n",
      "Epoch 87/100\n",
      "576/576 [==============================] - 0s 30us/sample - loss: 0.4247 - acc: 0.8021\n",
      "Epoch 88/100\n",
      "576/576 [==============================] - 0s 29us/sample - loss: 0.4243 - acc: 0.8021\n",
      "Epoch 89/100\n",
      "576/576 [==============================] - 0s 31us/sample - loss: 0.4244 - acc: 0.8003\n",
      "Epoch 90/100\n",
      "576/576 [==============================] - 0s 31us/sample - loss: 0.4238 - acc: 0.8021\n",
      "Epoch 91/100\n",
      "576/576 [==============================] - 0s 33us/sample - loss: 0.4235 - acc: 0.8003\n",
      "Epoch 92/100\n",
      "576/576 [==============================] - 0s 29us/sample - loss: 0.4231 - acc: 0.8021\n",
      "Epoch 93/100\n",
      "576/576 [==============================] - 0s 33us/sample - loss: 0.4228 - acc: 0.8038\n",
      "Epoch 94/100\n",
      "576/576 [==============================] - 0s 31us/sample - loss: 0.4227 - acc: 0.8038\n",
      "Epoch 95/100\n",
      "576/576 [==============================] - 0s 29us/sample - loss: 0.4224 - acc: 0.8021\n",
      "Epoch 96/100\n",
      "576/576 [==============================] - 0s 31us/sample - loss: 0.4221 - acc: 0.8021\n",
      "Epoch 97/100\n",
      "576/576 [==============================] - 0s 33us/sample - loss: 0.4221 - acc: 0.8021\n",
      "Epoch 98/100\n",
      "576/576 [==============================] - 0s 31us/sample - loss: 0.4216 - acc: 0.8038\n",
      "Epoch 99/100\n",
      "576/576 [==============================] - 0s 31us/sample - loss: 0.4217 - acc: 0.8021\n",
      "Epoch 100/100\n",
      "576/576 [==============================] - 0s 29us/sample - loss: 0.4211 - acc: 0.8003\n",
      "192/192 - 0s - loss: 0.4975 - acc: 0.7083\n",
      "Loss: 0.49745291471481323, Accuracy: 0.7083333134651184\n"
     ]
    }
   ],
   "source": [
    "# Define the basic neural network model\n",
    "\n",
    "nn_model = tf.keras.models.Sequential()\n",
    "nn_model.add(tf.keras.layers.Dense(units=16, activation=\"relu\", input_dim=8))\n",
    "nn_model.add(tf.keras.layers.Dense(units=1, activation=\"sigmoid\"))\n",
    "\n",
    "# Compile the Sequential model together and customize metrics\n",
    "nn_model.compile(loss=\"binary_crossentropy\", optimizer=\"adam\", metrics=[\"accuracy\"])\n",
    "\n",
    "# Train the model\n",
    "fit_model = nn_model.fit(X_train_scaled, y_train, epochs=100)\n",
    "\n",
    "# Evaluate the model using the test data\n",
    "model_loss, model_accuracy = nn_model.evaluate(X_test_scaled,y_test,verbose=2)\n",
    "print(f\"Loss: {model_loss}, Accuracy: {model_accuracy}\")"
   ]
  },
  {
   "cell_type": "code",
   "execution_count": 58,
   "metadata": {},
   "outputs": [],
   "source": [
    "# Evaluate the Logistic Regression trained model on test data for model metrics\n",
    "# Note: I applied part of the code with modification from some of our projects on SageMaker\n",
    "# deployed predictor for consolidated metrics output\n",
    "\n",
    "def evaluate(predictor, test_features, test_labels, verbose=True):\n",
    "        \n",
    "    # rounding and squeezing array\n",
    "    test_preds = 0.01 #np.squeeze(np.round(predictor.predict(test_features)))\n",
    "    \n",
    "    # calculate true positives, false positives, true negatives, false negatives\n",
    "    tp = np.logical_and(test_labels, test_preds).sum()\n",
    "    fp = np.logical_and(1-test_labels, test_preds).sum()\n",
    "    tn = np.logical_and(1-test_labels, 1-test_preds).sum()\n",
    "    fn = np.logical_and(test_labels, 1-test_preds).sum()\n",
    "    \n",
    "    # calculate binary classification metrics\n",
    "    recall = tp / (tp + fn)\n",
    "    precision = tp / (tp + fp)\n",
    "    accuracy = (tp + tn) / (tp + fp + tn + fn)\n",
    "    \n",
    "    # print metrics\n",
    "    if verbose:\n",
    "        print(pd.crosstab(test_labels, test_preds, rownames=['Actuals'], colnames=['Predictions']))\n",
    "        print(\"\\n{:<11} {:.3f}\".format('Recall:', recall))\n",
    "        print(\"{:<11} {:.3f}\".format('Precision:', precision))\n",
    "        print(\"{:<11} {:.3f}\".format('Accuracy:', accuracy))\n",
    "        print()\n",
    "        print(\"{:<11} {:.3f}\".format('True Positive Rate(TP):', tp))\n",
    "        print(\"{:<11} {:.3f}\".format('False Positive Rate(FP):', fp))\n",
    "        print(\"{:<11} {:.3f}\".format('False Negative Rate(FN):', fn))\n",
    "        print(\"{:<11} {:.3f}\".format('True Negative Rate(TN):', tn))\n",
    "        \n",
    "    return {'TP': tp, 'FP': fp, 'FN': fn, 'TN': tn, \n",
    "            'Precision': precision, 'Recall': recall, 'Accuracy': accuracy}\n",
    "\n"
   ]
  },
  {
   "cell_type": "code",
   "execution_count": 9,
   "metadata": {},
   "outputs": [],
   "source": []
  },
  {
   "cell_type": "code",
   "execution_count": 71,
   "metadata": {},
   "outputs": [
    {
     "name": "stdout",
     "output_type": "stream",
     "text": [
      "Easy ensemble classifier performance:\n",
      "Balanced accuracy: 0.884 - \n"
     ]
    }
   ],
   "source": [
    "# Easy ensenble classifier and AdaBoost classifier\n",
    "from sklearn.ensemble import AdaBoostClassifier\n",
    "base_estimator = AdaBoostClassifier(n_estimators=25)\n",
    "\n",
    "from imblearn.ensemble import EasyEnsembleClassifier\n",
    "easy_ensemble = EasyEnsembleClassifier(n_estimators=25, base_estimator=base_estimator)\n",
    "\n",
    "easy_ensemble.fit(X_train, y_train) \n",
    "\n",
    "y_pred = easy_ensemble.predict(X_test)\n",
    "\n",
    "\n",
    "from sklearn.metrics import accuracy_score\n",
    "from sklearn.metrics import balanced_accuracy_score\n",
    "\n",
    "\n",
    "print(\"Easy ensemble classifier performance:\")\n",
    "print(f\"Balanced accuracy: {balanced_accuracy_score(y_test, y_pred):.3f} - \")"
   ]
  },
  {
   "cell_type": "code",
   "execution_count": 72,
   "metadata": {},
   "outputs": [
    {
     "data": {
      "text/html": [
       "<div>\n",
       "<style scoped>\n",
       "    .dataframe tbody tr th:only-of-type {\n",
       "        vertical-align: middle;\n",
       "    }\n",
       "\n",
       "    .dataframe tbody tr th {\n",
       "        vertical-align: top;\n",
       "    }\n",
       "\n",
       "    .dataframe thead th {\n",
       "        text-align: right;\n",
       "    }\n",
       "</style>\n",
       "<table border=\"1\" class=\"dataframe\">\n",
       "  <thead>\n",
       "    <tr style=\"text-align: right;\">\n",
       "      <th></th>\n",
       "      <th>Predicted 0</th>\n",
       "      <th>Predicted 1</th>\n",
       "    </tr>\n",
       "  </thead>\n",
       "  <tbody>\n",
       "    <tr>\n",
       "      <th>Actual 0</th>\n",
       "      <td>111</td>\n",
       "      <td>16</td>\n",
       "    </tr>\n",
       "    <tr>\n",
       "      <th>Actual 1</th>\n",
       "      <td>11</td>\n",
       "      <td>93</td>\n",
       "    </tr>\n",
       "  </tbody>\n",
       "</table>\n",
       "</div>"
      ],
      "text/plain": [
       "          Predicted 0  Predicted 1\n",
       "Actual 0          111           16\n",
       "Actual 1           11           93"
      ]
     },
     "execution_count": 72,
     "metadata": {},
     "output_type": "execute_result"
    }
   ],
   "source": [
    "# Display the confusion matrix\n",
    "from sklearn.metrics import confusion_matrix, classification_report\n",
    "\n",
    "y_pred = easy_ensemble.predict(X_test)\n",
    "\n",
    "cm = confusion_matrix(y_test, y_pred)\n",
    "\n",
    "# Create a DataFrame from the confusion matrix.\n",
    "cm_df = pd.DataFrame(\n",
    "    cm, index=[\"Actual 0\", \"Actual 1\"], columns=[\"Predicted 0\", \"Predicted 1\"])\n",
    "\n",
    "\n",
    "cm_df"
   ]
  },
  {
   "cell_type": "code",
   "execution_count": 61,
   "metadata": {
    "scrolled": false
   },
   "outputs": [
    {
     "name": "stdout",
     "output_type": "stream",
     "text": [
      "Confusion Matrix\n"
     ]
    },
    {
     "data": {
      "text/html": [
       "<div>\n",
       "<style scoped>\n",
       "    .dataframe tbody tr th:only-of-type {\n",
       "        vertical-align: middle;\n",
       "    }\n",
       "\n",
       "    .dataframe tbody tr th {\n",
       "        vertical-align: top;\n",
       "    }\n",
       "\n",
       "    .dataframe thead th {\n",
       "        text-align: right;\n",
       "    }\n",
       "</style>\n",
       "<table border=\"1\" class=\"dataframe\">\n",
       "  <thead>\n",
       "    <tr style=\"text-align: right;\">\n",
       "      <th></th>\n",
       "      <th>Predicted 0</th>\n",
       "      <th>Predicted 1</th>\n",
       "    </tr>\n",
       "  </thead>\n",
       "  <tbody>\n",
       "    <tr>\n",
       "      <th>Actual 0</th>\n",
       "      <td>110</td>\n",
       "      <td>17</td>\n",
       "    </tr>\n",
       "    <tr>\n",
       "      <th>Actual 1</th>\n",
       "      <td>11</td>\n",
       "      <td>93</td>\n",
       "    </tr>\n",
       "  </tbody>\n",
       "</table>\n",
       "</div>"
      ],
      "text/plain": [
       "          Predicted 0  Predicted 1\n",
       "Actual 0          110           17\n",
       "Actual 1           11           93"
      ]
     },
     "metadata": {},
     "output_type": "display_data"
    },
    {
     "name": "stdout",
     "output_type": "stream",
     "text": [
      "Accuracy Score : <function accuracy_score at 0x000001B23887FC18>\n",
      "Classification Report:Easy Ensemble & AdaBoost Classifier\n",
      "                   pre       rec       spe        f1       geo       iba       sup\n",
      "\n",
      "          0       0.91      0.87      0.89      0.89      0.88      0.77       127\n",
      "          1       0.85      0.89      0.87      0.87      0.88      0.78       104\n",
      "\n",
      "avg / total       0.88      0.88      0.88      0.88      0.88      0.77       231\n",
      "\n"
     ]
    }
   ],
   "source": [
    "# Print the imbalanced classification report\n",
    "from imblearn.metrics import classification_report_imbalanced\n",
    "\n",
    "\n",
    "# Displaying results\n",
    "print(\"Confusion Matrix\")\n",
    "display(cm_df)\n",
    "print(f\"Accuracy Score : {accuracy_score}\")\n",
    "print(f\"Classification Report:Easy Ensemble & AdaBoost Classifier\")\n",
    "\n",
    "print(classification_report_imbalanced(y_test, y_pred))"
   ]
  },
  {
   "cell_type": "code",
   "execution_count": 62,
   "metadata": {
    "scrolled": true
   },
   "outputs": [
    {
     "name": "stdout",
     "output_type": "stream",
     "text": [
      "Predictions  0.01\n",
      "Actuals          \n",
      "0             127\n",
      "1             104\n",
      "\n",
      "Recall:     0.500\n",
      "Precision:  0.450\n",
      "Accuracy:   0.500\n",
      "\n",
      "True Positive Rate(TP): 104.000\n",
      "False Positive Rate(FP): 127.000\n",
      "False Negative Rate(FN): 104.000\n",
      "True Negative Rate(TN): 127.000\n"
     ]
    }
   ],
   "source": [
    "# Display metrics evaluated\n",
    "\n",
    "metrics = evaluate(predictor, X_test, y_test, True)"
   ]
  },
  {
   "cell_type": "code",
   "execution_count": 68,
   "metadata": {
    "scrolled": true
   },
   "outputs": [
    {
     "data": {
      "image/png": "[encoded data removed]",
      "text/plain": [
       "<Figure size 576x576 with 1 Axes>"
      ]
     },
     "metadata": {},
     "output_type": "display_data"
    }
   ],
   "source": [
    "# Create the ROC curve\n",
    "from sklearn.metrics import roc_curve, roc_auc_score\n",
    "y_score = logistic_classifier.predict(X_test)\n",
    "\n",
    "# Bring in the value of False Positive Rate and True Positive Rate\n",
    "fp, tp, threshold = roc_curve(y_test,y_score)\n",
    "\n",
    "# plot the curve\n",
    "plt.subplots(1, figsize=(8,8))\n",
    "plt.title('Receiver Operating Characteristic - Logistic regression')\n",
    "plt.plot(fp, tp)\n",
    "plt.plot([0, 1], ls=\"--\")\n",
    "plt.plot([0, 0], [1, 0] , c=\".7\"), plt.plot([1, 1] , c=\".7\")\n",
    "plt.ylabel('True Positive Rate')\n",
    "plt.xlabel('False Positive Rate')\n",
    "plt.show()"
   ]
  }
 ],
 "metadata": {
  "kernelspec": {
   "display_name": "Python 3",
   "language": "python",
   "name": "python3"
  },
  "language_info": {
   "codemirror_mode": {
    "name": "ipython",
    "version": 3
   },
   "file_extension": ".py",
   "mimetype": "text/x-python",
   "name": "python",
   "nbconvert_exporter": "python",
   "pygments_lexer": "ipython3",
   "version": "3.7.7"
  }
 },
 "nbformat": 4,
 "nbformat_minor": 4
}
